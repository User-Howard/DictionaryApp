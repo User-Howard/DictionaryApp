{
 "cells": [
  {
   "cell_type": "code",
   "execution_count": 30,
   "id": "255a8de0",
   "metadata": {},
   "outputs": [],
   "source": [
    "from bs4 import BeautifulSoup\n",
    "from urllib.request import urlopen"
   ]
  },
  {
   "cell_type": "code",
   "execution_count": 31,
   "id": "ef6860b6",
   "metadata": {},
   "outputs": [],
   "source": [
    "def getHTML(url):\n",
    "    headers = {'User-Agent': 'User-Agent:Mozilla/5.0 (Macintosh; Intel Mac OS X 10_12_3) AppleWebKit/537.36 (KHTML, like Gecko) Chrome/56.0.2924.87 Safari/537.36'}\n",
    "    req = request.Request(url, headers=headers)\n",
    "    return request.urlopen(req).read()"
   ]
  },
  {
   "cell_type": "code",
   "execution_count": 33,
   "id": "39ffc151",
   "metadata": {
    "scrolled": true
   },
   "outputs": [],
   "source": [
    "word = \"apple\"\n",
    "html = getHTML(\"https://dictionary.cambridge.org/zht/%E8%A9%9E%E5%85%B8/%E8%8B%B1%E8%AA%9E/\"+word)"
   ]
  },
  {
   "cell_type": "code",
   "execution_count": 35,
   "id": "abe98f70",
   "metadata": {},
   "outputs": [],
   "source": [
    "soup = BeautifulSoup(html, \"html.parser\")"
   ]
  },
  {
   "cell_type": "code",
   "execution_count": null,
   "id": "4b3e3c80",
   "metadata": {},
   "outputs": [],
   "source": []
  }
 ],
 "metadata": {
  "kernelspec": {
   "display_name": "Python 3 (ipykernel)",
   "language": "python",
   "name": "python3"
  },
  "language_info": {
   "codemirror_mode": {
    "name": "ipython",
    "version": 3
   },
   "file_extension": ".py",
   "mimetype": "text/x-python",
   "name": "python",
   "nbconvert_exporter": "python",
   "pygments_lexer": "ipython3",
   "version": "3.8.10"
  }
 },
 "nbformat": 4,
 "nbformat_minor": 5
}
